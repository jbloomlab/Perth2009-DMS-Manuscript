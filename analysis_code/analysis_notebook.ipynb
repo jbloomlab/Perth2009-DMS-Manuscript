{
 "metadata": {
  "kernelspec": {
   "display_name": "Python 3",
   "language": "python",
   "name": "python3"
  },
  "language_info": {
   "codemirror_mode": {
    "name": "ipython",
    "version": 3
   },
   "file_extension": ".py",
   "mimetype": "text/x-python",
   "name": "python",
   "nbconvert_exporter": "python",
   "pygments_lexer": "ipython3",
   "version": "3.4.3"
  },
  "name": "",
  "toc": {
   "nav_menu": {},
   "number_sections": true,
   "sideBar": true,
   "skip_h1_title": false,
   "toc_cell": true,
   "toc_position": {
    "height": "677px",
    "left": "0px",
    "right": "1228px",
    "top": "107px",
    "width": "212px"
   },
   "toc_section_display": "block",
   "toc_window_display": true
  }
 },
 "nbformat": 3,
 "nbformat_minor": 0,
 "worksheets": [
  {
   "cells": [
    {
     "cell_type": "markdown",
     "metadata": {
      "toc": true
     },
     "source": [
      "<h1>Table of Contents<span class=\"tocSkip\"></span></h1>\n",
      "<div class=\"toc\" style=\"margin-top: 1em;\"><ul class=\"toc-item\"><li><span><a data-toc-modified-id=\"Deep-mutational-scanning-of-Perth/2009-(H3N2)-HA-1\" href=\"#Deep-mutational-scanning-of-Perth/2009-(H3N2)-HA\"><span class=\"toc-item-num\">1&nbsp;&nbsp;</span>Deep mutational scanning of Perth/2009 (H3N2) HA</a></span><ul class=\"toc-item\"><li><span><a data-toc-modified-id=\"Overview-1.1\" href=\"#Overview\"><span class=\"toc-item-num\">1.1&nbsp;&nbsp;</span>Overview</a></span></li><li><span><a data-toc-modified-id=\"Experimental-summary-1.2\" href=\"#Experimental-summary\"><span class=\"toc-item-num\">1.2&nbsp;&nbsp;</span>Experimental summary</a></span></li><li><span><a data-toc-modified-id=\"Goals-1.3\" href=\"#Goals\"><span class=\"toc-item-num\">1.3&nbsp;&nbsp;</span>Goals</a></span></li></ul></li><li><span><a data-toc-modified-id=\"Import-modules,-define-directories-2\" href=\"#Import-modules,-define-directories\"><span class=\"toc-item-num\">2&nbsp;&nbsp;</span>Import modules, define directories</a></span></li><li><span><a data-toc-modified-id=\"Estimate-H3-HA-site-specific-amino-acid-preferences-3\" href=\"#Estimate-H3-HA-site-specific-amino-acid-preferences\"><span class=\"toc-item-num\">3&nbsp;&nbsp;</span>Estimate H3 HA site-specific amino-acid preferences</a></span><ul class=\"toc-item\"><li><span><a data-toc-modified-id=\"Define-the-samples-3.1\" href=\"#Define-the-samples\"><span class=\"toc-item-num\">3.1&nbsp;&nbsp;</span>Define the samples</a></span></li><li><span><a data-toc-modified-id=\"Download-FASTQ-files-from-the-SRA-3.2\" href=\"#Download-FASTQ-files-from-the-SRA\"><span class=\"toc-item-num\">3.2&nbsp;&nbsp;</span>Download <code>FASTQ</code> files from the SRA</a></span></li><li><span><a data-toc-modified-id=\"Align-deep-sequencing-data-and-count-mutations-3.3\" href=\"#Align-deep-sequencing-data-and-count-mutations\"><span class=\"toc-item-num\">3.3&nbsp;&nbsp;</span>Align deep sequencing data and count mutations</a></span></li><li><span><a data-toc-modified-id=\"Estimate-the-site-specific-amino-acid-preferences-3.4\" href=\"#Estimate-the-site-specific-amino-acid-preferences\"><span class=\"toc-item-num\">3.4&nbsp;&nbsp;</span>Estimate the site-specific amino-acid preferences</a></span></li><li><span><a data-toc-modified-id=\"Renumber-preferences-to-H3-numbering-and-average-across-replicates-3.5\" href=\"#Renumber-preferences-to-H3-numbering-and-average-across-replicates\"><span class=\"toc-item-num\">3.5&nbsp;&nbsp;</span>Renumber preferences to H3 numbering and average across replicates</a></span></li></ul></li><li><span><a data-toc-modified-id=\"Fit-preferences-to-the-evolution-of-natural-H3-sequences-4\" href=\"#Fit-preferences-to-the-evolution-of-natural-H3-sequences\"><span class=\"toc-item-num\">4&nbsp;&nbsp;</span>Fit preferences to the evolution of natural H3 sequences</a></span><ul class=\"toc-item\"><li><span><a data-toc-modified-id=\"Display-preferences-as-a-rescaled-logoplot-4.1\" href=\"#Display-preferences-as-a-rescaled-logoplot\"><span class=\"toc-item-num\">4.1&nbsp;&nbsp;</span>Display preferences as a rescaled logoplot</a></span></li><li><span><a data-toc-modified-id=\"Re-scale-the-preferences-4.2\" href=\"#Re-scale-the-preferences\"><span class=\"toc-item-num\">4.2&nbsp;&nbsp;</span>Re-scale the preferences</a></span></li><li><span><a data-toc-modified-id=\"Calculate-the-site-entropy-and-write-to-a-new-preferences-file-4.3\" href=\"#Calculate-the-site-entropy-and-write-to-a-new-preferences-file\"><span class=\"toc-item-num\">4.3&nbsp;&nbsp;</span>Calculate the site entropy and write to a new preferences file</a></span></li></ul></li><li><span><a data-toc-modified-id=\"Compare-the-preferences-between-the-HA-homologs-5\" href=\"#Compare-the-preferences-between-the-HA-homologs\"><span class=\"toc-item-num\">5&nbsp;&nbsp;</span>Compare the preferences between the HA homologs</a></span><ul class=\"toc-item\"><li><span><a data-toc-modified-id=\"Correlate-the-Perth/2009-H3-and-WSN/1933-H1-preferences-5.1\" href=\"#Correlate-the-Perth/2009-H3-and-WSN/1933-H1-preferences\"><span class=\"toc-item-num\">5.1&nbsp;&nbsp;</span>Correlate the Perth/2009 H3 and WSN/1933 H1 preferences</a></span></li><li><span><a data-toc-modified-id=\"Compute-the-distances-between-preferences-5.2\" href=\"#Compute-the-distances-between-preferences\"><span class=\"toc-item-num\">5.2&nbsp;&nbsp;</span>Compute the distances between preferences</a></span></li><li><span><a data-toc-modified-id=\"Examine-mutational-shifts-at-different-domains-and-sites-5.3\" href=\"#Examine-mutational-shifts-at-different-domains-and-sites\"><span class=\"toc-item-num\">5.3&nbsp;&nbsp;</span>Examine mutational shifts at different domains and sites</a></span></li></ul></li></ul></div>"
     ]
    },
    {
     "cell_type": "markdown",
     "metadata": {},
     "source": [
      "# Deep mutational scanning of Perth/2009 (H3N2) HA\n",
      "\n",
      "## Overview\n",
      "\n",
      "We performed deep mutational scanning of **hemagglutinin (HA)** from the **A/Perth/16/2009(H3N2)** influenza virus strain. This is analysis of the data generated from the DMS experiments using the [`dms_tools2`](https://github.com/jbloomlab/dms_tools2) software.\n",
      "\n",
      "## Experimental summary\n",
      "\n",
      "The goal of these experiments was to measure the effect of all single amino-acid mutations to HA on viral growth in cell culture. We created triplicate codon-mutant libraries of the Perth/2009 H3 HA, rescued virus libraries using the helper virus approach described in [Doud and Bloom (2016)](http://www.mdpi.com/1999-4915/8/6/155), and passaged the generated mutant virus libraries at low multiplicity of infection (MOI) in cell culture to select for functional variants of HA.\n",
      "\n",
      "For each library, there is a _mutDNA-#_ sample representing the plasmid mutant library, and a _mutvirus-#_ sample representing the mutant viruses after passaging. Note that library 3 was passaged in technical replicate, so there are two _mutvirus_ samples (_3-1_ and _3-2_) for library 3. There is also a single set of wild-type controls for the unmutated plasmid and the corresponding virus, referred to as _wtDNA_ and _wtvirus_.\n",
      "\n",
      "As described previously, all of the plasmid and virus samples were deep sequenced using a [barcoded-subamplicon sequencing](https://jbloomlab.github.io/dms_tools2/bcsubamp.html#bcsubamp) approach to sequence the samples to high accuracy.\n",
      "\n",
      "## Goals\n",
      "\n",
      "In this analysis, we will try to achieve the following goals:\n",
      "1. Estimate the site-specific amino-acid preferences for the Perth/2009 H3 HA and use these preferences to fit an experimentally-informed codon substitution model on natural H3 sequences.\n",
      "2. Investigate the extent of mutational shifts between two diverged HA homologs."
     ]
    },
    {
     "cell_type": "heading",
     "level": 1,
     "metadata": {},
     "source": [
      "Import modules, define directories"
     ]
    },
    {
     "cell_type": "code",
     "collapsed": false,
     "input": [
      "import os\n",
      "import re\n",
      "import glob\n",
      "import itertools\n",
      "import random\n",
      "import pandas as pd\n",
      "import numpy as np\n",
      "import scipy\n",
      "import matplotlib as mpl\n",
      "import matplotlib.pyplot as plt\n",
      "import matplotlib.patches as mpatches\n",
      "import seaborn as sns\n",
      "import collections\n",
      "import joypy\n",
      "import statsmodels.stats.multitest\n",
      "from collections import defaultdict\n",
      "\n",
      "import dms_tools2\n",
      "import dms_tools2.sra\n",
      "import dms_tools2.plot\n",
      "import dms_tools2.prefs\n",
      "import dms_tools2.compareprefs\n",
      "from dms_tools2.ipython_utils import showPDF\n",
      "import warnings\n",
      "warnings.simplefilter('ignore') # don't print warnings to avoid clutter in notebook\n",
      "from IPython.display import display, HTML, Markdown\n",
      "# from pymodules.utils import * # custom modules for this analysis\n",
      "\n",
      "print(\"Using dms_tools2 version {0}\".format(dms_tools2.__version__))\n",
      "\n",
      "# CPUs to use, should not exceed the number you request with slurm\n",
      "ncpus = 14\n",
      "\n",
      "# do we use existing results or generate everything new?\n",
      "use_existing = 'yes'\n",
      "\n",
      "inputdir = './data/'\n",
      "\n",
      "resultsdir = './results/'\n",
      "fastqdir = os.path.join(resultsdir, 'FASTQ_files/')\n",
      "countsdir = os.path.join(resultsdir, 'codoncounts/')\n",
      "prefsdir = os.path.join(resultsdir, 'preferences/')\n",
      "renumberedprefsdir = os.path.join(resultsdir, 'H3renumberedprefs/')\n",
      "phydmsdir = os.path.join(resultsdir, 'phydms_analysis/')\n",
      "logodir = os.path.join(resultsdir, 'logoplots/')\n",
      "WSNprefsdir = os.path.join(resultsdir, 'WSNpreferences/')\n",
      "prefsdistdir = os.path.join(resultsdir, 'prefsdist/')\n",
      "plotsdir = os.path.join(resultsdir, 'plots/')\n",
      "\n",
      "for xdir in [resultsdir, fastqdir, countsdir, prefsdir, renumberedprefsdir,\n",
      "             phydmsdir, WSNprefsdir, prefsdistdir, plotsdir]:\n",
      "    if not os.path.isdir(xdir):\n",
      "        os.mkdir(xdir)"
     ],
     "language": "python",
     "metadata": {
      "scrolled": false
     },
     "outputs": [
      {
       "output_type": "stream",
       "stream": "stderr",
       "text": [
        "/home/jmlee34/.local/lib/python3.4/site-packages/dms_tools2/plot.py:21: UserWarning: \n",
        "This call to matplotlib.use() has no effect because the backend has already\n",
        "been chosen; matplotlib.use() must be called *before* pylab, matplotlib.pyplot,\n",
        "or matplotlib.backends is imported for the first time.\n",
        "\n",
        "The backend was *originally* set to 'module://ipykernel.pylab.backend_inline' by the following code:\n",
        "  File \"/app/python3/3.4.1/lib/python3.4/runpy.py\", line 170, in _run_module_as_main\n",
        "    \"__main__\", mod_spec)\n",
        "  File \"/app/python3/3.4.1/lib/python3.4/runpy.py\", line 85, in _run_code\n",
        "    exec(code, run_globals)\n",
        "  File \"/home/jmlee34/.local/lib/python3.4/site-packages/ipykernel_launcher.py\", line 16, in <module>\n",
        "    app.launch_new_instance()\n",
        "  File \"/home/jmlee34/.local/lib/python3.4/site-packages/traitlets/config/application.py\", line 658, in launch_instance\n",
        "    app.start()\n",
        "  File \"/home/jmlee34/.local/lib/python3.4/site-packages/ipykernel/kernelapp.py\", line 477, in start\n",
        "    ioloop.IOLoop.instance().start()\n",
        "  File \"/home/jmlee34/.local/lib/python3.4/site-packages/zmq/eventloop/ioloop.py\", line 177, in start\n",
        "    super(ZMQIOLoop, self).start()\n",
        "  File \"/home/jmlee34/.local/lib/python3.4/site-packages/tornado/ioloop.py\", line 888, in start\n",
        "    handler_func(fd_obj, events)\n",
        "  File \"/home/jmlee34/.local/lib/python3.4/site-packages/tornado/stack_context.py\", line 277, in null_wrapper\n",
        "    return fn(*args, **kwargs)\n",
        "  File \"/home/jmlee34/.local/lib/python3.4/site-packages/zmq/eventloop/zmqstream.py\", line 440, in _handle_events\n",
        "    self._handle_recv()\n",
        "  File \"/home/jmlee34/.local/lib/python3.4/site-packages/zmq/eventloop/zmqstream.py\", line 472, in _handle_recv\n",
        "    self._run_callback(callback, msg)\n",
        "  File \"/home/jmlee34/.local/lib/python3.4/site-packages/zmq/eventloop/zmqstream.py\", line 414, in _run_callback\n",
        "    callback(*args, **kwargs)\n",
        "  File \"/home/jmlee34/.local/lib/python3.4/site-packages/tornado/stack_context.py\", line 277, in null_wrapper\n",
        "    return fn(*args, **kwargs)\n",
        "  File \"/home/jmlee34/.local/lib/python3.4/site-packages/ipykernel/kernelbase.py\", line 283, in dispatcher\n",
        "    return self.dispatch_shell(stream, msg)\n",
        "  File \"/home/jmlee34/.local/lib/python3.4/site-packages/ipykernel/kernelbase.py\", line 235, in dispatch_shell\n",
        "    handler(stream, idents, msg)\n",
        "  File \"/home/jmlee34/.local/lib/python3.4/site-packages/ipykernel/kernelbase.py\", line 399, in execute_request\n",
        "    user_expressions, allow_stdin)\n",
        "  File \"/home/jmlee34/.local/lib/python3.4/site-packages/ipykernel/ipkernel.py\", line 196, in do_execute\n",
        "    res = shell.run_cell(code, store_history=store_history, silent=silent)\n",
        "  File \"/home/jmlee34/.local/lib/python3.4/site-packages/ipykernel/zmqshell.py\", line 533, in run_cell\n",
        "    return super(ZMQInteractiveShell, self).run_cell(*args, **kwargs)\n",
        "  File \"/home/jmlee34/.local/lib/python3.4/site-packages/IPython/core/interactiveshell.py\", line 2728, in run_cell\n",
        "    interactivity=interactivity, compiler=compiler, result=result)\n",
        "  File \"/home/jmlee34/.local/lib/python3.4/site-packages/IPython/core/interactiveshell.py\", line 2850, in run_ast_nodes\n",
        "    if self.run_code(code, result):\n",
        "  File \"/home/jmlee34/.local/lib/python3.4/site-packages/IPython/core/interactiveshell.py\", line 2910, in run_code\n",
        "    exec(code_obj, self.user_global_ns, self.user_ns)\n",
        "  File \"<ipython-input-1-ec4355fd877d>\", line 10, in <module>\n",
        "    import matplotlib.pyplot as plt\n",
        "  File \"/home/jmlee34/.local/lib/python3.4/site-packages/matplotlib/pyplot.py\", line 72, in <module>\n",
        "    from matplotlib.backends import pylab_setup\n",
        "  File \"/home/jmlee34/.local/lib/python3.4/site-packages/matplotlib/backends/__init__.py\", line 14, in <module>\n",
        "    line for line in traceback.format_stack()\n",
        "\n",
        "\n",
        "  matplotlib.use('pdf')\n"
       ]
      },
      {
       "output_type": "stream",
       "stream": "stderr",
       "text": [
        "/app/python3/3.4.1/lib/python3.4/importlib/_bootstrap.py:321: FutureWarning: The pandas.core.datetools module is deprecated and will be removed in a future version. Please use the pandas.tseries module instead.\n",
        "  return f(*args, **kwds)\n"
       ]
      },
      {
       "output_type": "stream",
       "stream": "stdout",
       "text": [
        "Using dms_tools2 version 2.2.0\n"
       ]
      }
     ],
     "prompt_number": 1
    },
    {
     "cell_type": "heading",
     "level": 1,
     "metadata": {},
     "source": [
      "Estimate H3 HA site-specific amino-acid preferences"
     ]
    },
    {
     "cell_type": "markdown",
     "metadata": {},
     "source": [
      "## Define the samples\n",
      "\n",
      "Here we will create a `pandas` dataframe to define the samples with the following information:\n",
      "1. The **name** of each sample.\n",
      "2. The SRA run accession for the deep sequencing data."
     ]
    },
    {
     "cell_type": "code",
     "collapsed": false,
     "input": [
      "samples = pd.DataFrame.from_records(\n",
      "        [('mutDNA-1', 'SRR6364210'),\n",
      "         ('mutDNA-2', 'SRR6364209'),\n",
      "         ('mutDNA-3', 'SRR6364212'),\n",
      "         ('mutvirus-1', 'SRR6364216'),\n",
      "         ('mutvirus-2', 'SRR6364215'),\n",
      "         ('mutvirus-3-1', 'SRR6364211'),\n",
      "         ('mutvirus-3-2', 'SRR6364208'),\n",
      "         ('wtDNA', 'SRR6364214'),\n",
      "         ('wtvirus', 'SRR6364213')],\n",
      "        columns=['name', 'run']\n",
      "        )"
     ],
     "language": "python",
     "metadata": {},
     "outputs": [],
     "prompt_number": 2
    },
    {
     "cell_type": "markdown",
     "metadata": {},
     "source": [
      "## Download `FASTQ` files from the SRA\n",
      "\n",
      "All of the FASTQ files are on the Sequence Read Archive (SRA) under the run numbers listed in the `samples` dataframe defined above. To download these files, we just pass that dataframe to the [dms_tools2.sra.fastqFromSRA](https://jbloomlab.github.io/dms_tools2/dms_tools2.sra.html#dms_tools2.sra.fastqFromSRA) function. Note that this requires the `fastq-dump` and `aspera` programs to be installed on the computer you are using at the specified paths."
     ]
    },
    {
     "cell_type": "code",
     "collapsed": false,
     "input": [
      "print('Downloading FASTQ files from the SRA...')\n",
      "dms_tools2.sra.fastqFromSRA(\n",
      "        samples=samples,\n",
      "        fastq_dump='fastq-dump', # valid path to this program on the Hutch server\n",
      "        fastqdir=fastqdir,\n",
      "        aspera=(\n",
      "            '/app/aspera-connect/3.5.1/bin/ascp', # valid path to ascp on Hutch server\n",
      "            '/app/aspera-connect/3.5.1/etc/asperaweb_id_dsa.openssh' # Aspera key on Hutch server\n",
      "            ),\n",
      "        overwrite={'no':True, 'yes':False}[use_existing],\n",
      "        )\n",
      "print('Completed download of FASTQ files from the SRA')\n",
      "\n",
      "print('Here are the names of the downloaded files now found in {0}'.format(fastqdir))\n",
      "display(HTML(samples.to_html(index=False)))"
     ],
     "language": "python",
     "metadata": {},
     "outputs": [
      {
       "output_type": "stream",
       "stream": "stdout",
       "text": [
        "Downloading FASTQ files from the SRA...\n",
        "Completed download of FASTQ files from the SRA\n",
        "Here are the names of the downloaded files now found in ./results/FASTQ_files/\n"
       ]
      },
      {
       "html": [
        "<table border=\"1\" class=\"dataframe\">\n",
        "  <thead>\n",
        "    <tr style=\"text-align: right;\">\n",
        "      <th>name</th>\n",
        "      <th>run</th>\n",
        "      <th>R1</th>\n",
        "      <th>R2</th>\n",
        "    </tr>\n",
        "  </thead>\n",
        "  <tbody>\n",
        "    <tr>\n",
        "      <td>mutDNA-1</td>\n",
        "      <td>SRR6364210</td>\n",
        "      <td>mutDNA-1_R1.fastq.gz</td>\n",
        "      <td>mutDNA-1_R2.fastq.gz</td>\n",
        "    </tr>\n",
        "    <tr>\n",
        "      <td>mutDNA-2</td>\n",
        "      <td>SRR6364209</td>\n",
        "      <td>mutDNA-2_R1.fastq.gz</td>\n",
        "      <td>mutDNA-2_R2.fastq.gz</td>\n",
        "    </tr>\n",
        "    <tr>\n",
        "      <td>mutDNA-3</td>\n",
        "      <td>SRR6364212</td>\n",
        "      <td>mutDNA-3_R1.fastq.gz</td>\n",
        "      <td>mutDNA-3_R2.fastq.gz</td>\n",
        "    </tr>\n",
        "    <tr>\n",
        "      <td>mutvirus-1</td>\n",
        "      <td>SRR6364216</td>\n",
        "      <td>mutvirus-1_R1.fastq.gz</td>\n",
        "      <td>mutvirus-1_R2.fastq.gz</td>\n",
        "    </tr>\n",
        "    <tr>\n",
        "      <td>mutvirus-2</td>\n",
        "      <td>SRR6364215</td>\n",
        "      <td>mutvirus-2_R1.fastq.gz</td>\n",
        "      <td>mutvirus-2_R2.fastq.gz</td>\n",
        "    </tr>\n",
        "    <tr>\n",
        "      <td>mutvirus-3-1</td>\n",
        "      <td>SRR6364211</td>\n",
        "      <td>mutvirus-3-1_R1.fastq.gz</td>\n",
        "      <td>mutvirus-3-1_R2.fastq.gz</td>\n",
        "    </tr>\n",
        "    <tr>\n",
        "      <td>mutvirus-3-2</td>\n",
        "      <td>SRR6364208</td>\n",
        "      <td>mutvirus-3-2_R1.fastq.gz</td>\n",
        "      <td>mutvirus-3-2_R2.fastq.gz</td>\n",
        "    </tr>\n",
        "    <tr>\n",
        "      <td>wtDNA</td>\n",
        "      <td>SRR6364214</td>\n",
        "      <td>wtDNA_R1.fastq.gz</td>\n",
        "      <td>wtDNA_R2.fastq.gz</td>\n",
        "    </tr>\n",
        "    <tr>\n",
        "      <td>wtvirus</td>\n",
        "      <td>SRR6364213</td>\n",
        "      <td>wtvirus_R1.fastq.gz</td>\n",
        "      <td>wtvirus_R2.fastq.gz</td>\n",
        "    </tr>\n",
        "  </tbody>\n",
        "</table>"
       ],
       "output_type": "display_data",
       "text": [
        "<IPython.core.display.HTML object>"
       ]
      }
     ],
     "prompt_number": 3
    },
    {
     "cell_type": "markdown",
     "metadata": {},
     "source": [
      "## Align deep sequencing data and count mutations\n",
      "\n",
      "We have employed a barcoded-subamplicon sequencing approach to deep sequence the samples to high accuracy. We will now analyze the sequence data using the `dms2_batch_bcsubamp` program."
     ]
    },
    {
     "cell_type": "code",
     "collapsed": false,
     "input": [
      "# Reference coding sequence of Perth/2009 HA; from plasmid #1535 pICR2-Perth09-HA\n",
      "refseq = './data/Perth09_HA_reference.fa'\n",
      "\n",
      "# Temporary align specs\n",
      "alignspecs = ' '.join(['1,285,38,40', '286,567,33,34', '568,852,34,30', \n",
      "                       '853,1137,34,31', '1138,1422,36,29', '1423,1701,39,44'])\n",
      "\n",
      "# write sample information to a batch file for dms2_batch_bcsubamplicons\n",
      "countsbatchfile = os.path.join(countsdir, 'batch.csv')\n",
      "samples.to_csv(countsbatchfile, index=False)\n",
      "\n",
      "print('\\nNow running dms2_batch_bcsubamp...')\n",
      "log = !dms2_batch_bcsubamp \\\n",
      "        --batchfile {countsbatchfile} \\\n",
      "        --refseq {refseq} \\\n",
      "        --alignspecs {alignspecs} \\\n",
      "        --outdir {countsdir} \\\n",
      "        --summaryprefix summary \\\n",
      "        --R1trim 200 --R2trim 161 \\\n",
      "        --fastqdir {fastqdir} \\\n",
      "        --ncpus {ncpus} \\\n",
      "        --use_existing {use_existing}\n",
      "\n",
      "print('Completed dms2_batch_bcsubamp.')"
     ],
     "language": "python",
     "metadata": {},
     "outputs": [
      {
       "output_type": "stream",
       "stream": "stdout",
       "text": [
        "\n",
        "Now running dms2_batch_bcsubamp...\n"
       ]
      },
      {
       "output_type": "stream",
       "stream": "stdout",
       "text": [
        "Completed dms2_batch_bcsubamp.\n"
       ]
      }
     ],
     "prompt_number": 4
    },
    {
     "cell_type": "code",
     "collapsed": false,
     "input": [
      "!ls {countsdir}/*_codoncounts.csv"
     ],
     "language": "python",
     "metadata": {},
     "outputs": [
      {
       "output_type": "stream",
       "stream": "stdout",
       "text": [
        "./results/codoncounts//mutDNA-1_codoncounts.csv\r\n",
        "./results/codoncounts//mutDNA-2_codoncounts.csv\r\n",
        "./results/codoncounts//mutDNA-3_codoncounts.csv\r\n",
        "./results/codoncounts//mutvirus-1_codoncounts.csv\r\n",
        "./results/codoncounts//mutvirus-2_codoncounts.csv\r\n",
        "./results/codoncounts//mutvirus-3-1_codoncounts.csv\r\n",
        "./results/codoncounts//mutvirus-3-2_codoncounts.csv\r\n",
        "./results/codoncounts//wtDNA_codoncounts.csv\r\n",
        "./results/codoncounts//wtvirus_codoncounts.csv\r\n"
       ]
      }
     ],
     "prompt_number": 5
    },
    {
     "cell_type": "code",
     "collapsed": false,
     "input": [
      "countsplotprefix = os.path.join(countsdir, 'summary')"
     ],
     "language": "python",
     "metadata": {},
     "outputs": [],
     "prompt_number": 6
    },
    {
     "cell_type": "code",
     "collapsed": false,
     "input": [
      "showPDF(countsplotprefix + '_readstats.pdf', width=500)"
     ],
     "language": "python",
     "metadata": {},
     "outputs": [
      {
       "output_type": "display_data",
       "png": "[encoded data removed]",
       "text": [
        "<IPython.core.display.Image object>"
       ]
      }
     ],
     "prompt_number": 7
    },
    {
     "cell_type": "code",
     "collapsed": false,
     "input": [
      "showPDF(countsplotprefix + '_readsperbc.pdf')"
     ],
     "language": "python",
     "metadata": {},
     "outputs": [
      {
       "output_type": "display_data",
       "png": "[encoded data removed]",
       "text": [
        "<IPython.core.display.Image object>"
       ]
      }
     ],
     "prompt_number": 8
    },
    {
     "cell_type": "markdown",
     "metadata": {},
     "source": [
      "From the reads per barcode plot above, it appears that most of the samples have good sequencing depth, although mutDNA-3, mutvirus-3-1, and mutvirus-3-2 look a bit undersequenced."
     ]
    },
    {
     "cell_type": "code",
     "collapsed": false,
     "input": [
      "showPDF(countsplotprefix + '_bcstats.pdf', width=500)"
     ],
     "language": "python",
     "metadata": {},
     "outputs": [
      {
       "output_type": "display_data",
       "png": "[encoded data removed]",
       "text": [
        "<IPython.core.display.Image object>"
       ]
      }
     ],
     "prompt_number": 9
    },
    {
     "cell_type": "code",
     "collapsed": false,
     "input": [
      "showPDF(countsplotprefix + '_depth.pdf')"
     ],
     "language": "python",
     "metadata": {},
     "outputs": [
      {
       "output_type": "display_data",
       "png": "[encoded data removed]",
       "text": [
        "<IPython.core.display.Image object>"
       ]
      }
     ],
     "prompt_number": 10
    },
    {
     "cell_type": "markdown",
     "metadata": {},
     "source": [
      "The sequencing depth across the HA gene appears to be quite even for each sample. There are small dips near the middle of the subamplicon where sequencing quality drops near the end of R1 and R2. However, by trimming each read we've been able to minimize reads that are thrown out due to poorer sequencing quality in this region."
     ]
    },
    {
     "cell_type": "code",
     "collapsed": false,
     "input": [
      "showPDF(countsplotprefix + '_mutfreq.pdf')"
     ],
     "language": "python",
     "metadata": {},
     "outputs": [
      {
       "output_type": "display_data",
       "png": "[encoded data removed]",
       "text": [
        "<IPython.core.display.Image object>"
       ]
      }
     ],
     "prompt_number": 11
    },
    {
     "cell_type": "markdown",
     "metadata": {},
     "source": [
      "The mutation frequencies are highest in the mutDNA samples and lowest in the wtDNA and wtvirus samples. There is a spike in mutation frequency at what appears to be the first codon in each of the three mutDNA samples as well as the mutvirus samples. However, close examination of the mutations in the first codon does not reveal anything too aberrant, and this high mutation frequency may be due to biases in codon mutagenesis."
     ]
    },
    {
     "cell_type": "code",
     "collapsed": false,
     "input": [
      "showPDF(countsplotprefix + '_cumulmutcounts.pdf')"
     ],
     "language": "python",
     "metadata": {},
     "outputs": [
      {
       "output_type": "display_data",
       "png": "[encoded data removed]",
       "text": [
        "<IPython.core.display.Image object>"
       ]
      }
     ],
     "prompt_number": 12
    },
    {
     "cell_type": "markdown",
     "metadata": {},
     "source": [
      "The cumulative mutation counts plot above shows that nearly all codon and amino-acid mutations were sampled at least once in the mutant DNA samples, indicating that our plasmid libraries carry nearly all mutations, as is desired."
     ]
    },
    {
     "cell_type": "code",
     "collapsed": false,
     "input": [
      "showPDF(countsplotprefix + '_codonmuttypes.pdf', width=500)"
     ],
     "language": "python",
     "metadata": {},
     "outputs": [
      {
       "output_type": "display_data",
       "png": "[encoded data removed]",
       "text": [
        "<IPython.core.display.Image object>"
       ]
      }
     ],
     "prompt_number": 13
    },
    {
     "cell_type": "markdown",
     "metadata": {},
     "source": [
      "As expected, the mutation frequencies of the wildtype plasmid and the wildtype virus controls are low, and the wildtype virus has a slightly higher mutation frequency than the wildtype plasmid does, because viral replication is an error-prone process.\n",
      "After error correction, the frequencies of the stop and nonsynonymous mutations in the passaged mutant viruses have dropped relative to their starting frequencies in the mutant plasmid libraries.\n",
      "This indicates that we are selecting against presumably non-functional HA variants. \n",
      "Although there is some incomplete purging of stop codons (20-45% remaining after error correction), this is likely from genetic complementation due to co-infection."
     ]
    },
    {
     "cell_type": "code",
     "collapsed": false,
     "input": [
      "codonmuttypes = pd.read_csv(countsplotprefix + '_codonmuttypes.csv').sort_index(axis=1)\n",
      "display(HTML(codonmuttypes.to_html(index=False)))"
     ],
     "language": "python",
     "metadata": {},
     "outputs": [
      {
       "html": [
        "<table border=\"1\" class=\"dataframe\">\n",
        "  <thead>\n",
        "    <tr style=\"text-align: right;\">\n",
        "      <th>name</th>\n",
        "      <th>nonsynonymous</th>\n",
        "      <th>stop</th>\n",
        "      <th>synonymous</th>\n",
        "    </tr>\n",
        "  </thead>\n",
        "  <tbody>\n",
        "    <tr>\n",
        "      <td>mutDNA-1</td>\n",
        "      <td>0.002118</td>\n",
        "      <td>0.000112</td>\n",
        "      <td>0.000186</td>\n",
        "    </tr>\n",
        "    <tr>\n",
        "      <td>mutDNA-2</td>\n",
        "      <td>0.002237</td>\n",
        "      <td>0.000117</td>\n",
        "      <td>0.000193</td>\n",
        "    </tr>\n",
        "    <tr>\n",
        "      <td>mutDNA-3</td>\n",
        "      <td>0.002068</td>\n",
        "      <td>0.000112</td>\n",
        "      <td>0.000191</td>\n",
        "    </tr>\n",
        "    <tr>\n",
        "      <td>mutvirus-1</td>\n",
        "      <td>0.001039</td>\n",
        "      <td>0.000059</td>\n",
        "      <td>0.000219</td>\n",
        "    </tr>\n",
        "    <tr>\n",
        "      <td>mutvirus-2</td>\n",
        "      <td>0.000875</td>\n",
        "      <td>0.000036</td>\n",
        "      <td>0.000235</td>\n",
        "    </tr>\n",
        "    <tr>\n",
        "      <td>mutvirus-3-1</td>\n",
        "      <td>0.000838</td>\n",
        "      <td>0.000039</td>\n",
        "      <td>0.000232</td>\n",
        "    </tr>\n",
        "    <tr>\n",
        "      <td>mutvirus-3-2</td>\n",
        "      <td>0.000876</td>\n",
        "      <td>0.000040</td>\n",
        "      <td>0.000235</td>\n",
        "    </tr>\n",
        "    <tr>\n",
        "      <td>wtDNA</td>\n",
        "      <td>0.000130</td>\n",
        "      <td>0.000015</td>\n",
        "      <td>0.000047</td>\n",
        "    </tr>\n",
        "    <tr>\n",
        "      <td>wtvirus</td>\n",
        "      <td>0.000233</td>\n",
        "      <td>0.000015</td>\n",
        "      <td>0.000102</td>\n",
        "    </tr>\n",
        "  </tbody>\n",
        "</table>"
       ],
       "output_type": "display_data",
       "text": [
        "<IPython.core.display.HTML object>"
       ]
      }
     ],
     "prompt_number": 14
    },
    {
     "cell_type": "code",
     "collapsed": false,
     "input": [
      "showPDF(countsplotprefix + '_codonntchanges.pdf', width=500)"
     ],
     "language": "python",
     "metadata": {},
     "outputs": [
      {
       "output_type": "display_data",
       "png": "[encoded data removed]",
       "text": [
        "<IPython.core.display.Image object>"
       ]
      }
     ],
     "prompt_number": 15
    },
    {
     "cell_type": "code",
     "collapsed": false,
     "input": [
      "showPDF(countsplotprefix + '_singlentchanges.pdf', width=500)"
     ],
     "language": "python",
     "metadata": {},
     "outputs": [
      {
       "output_type": "display_data",
       "png": "[encoded data removed]",
       "text": [
        "<IPython.core.display.Image object>"
       ]
      }
     ],
     "prompt_number": 16
    },
    {
     "cell_type": "markdown",
     "metadata": {},
     "source": [
      "Although there might be some signs of slight oxidative damage (`C to A` and `G to T` mutations), especially in the wtDNA and mutDNA-3 samples, overall we see a fairly even distribution of nucleotide changes, with some enrichment for transition mutations."
     ]
    },
    {
     "cell_type": "markdown",
     "metadata": {},
     "source": [
      "## Estimate the site-specific amino-acid preferences\n",
      "\n",
      "Now that we have aligned and counted the mutations for each of our samples, we will now use these counts to estimate the amino-acid preferences for each site in HA.\n",
      "\n",
      "Our pre-selection samples are the each of the mutDNA-* samples, and the post-selection samples are the mutvirus-* samples. The wtDNA and wtvirus will serve as our \"error controls.\""
     ]
    },
    {
     "cell_type": "code",
     "collapsed": false,
     "input": [
      "# create batch file for dms2_batch_prefs\n",
      "prefsbatch = pd.DataFrame(\n",
      "        columns=['name', 'pre', 'post', 'errpre', 'errpost'],\n",
      "        data=[('replicate-1', 'mutDNA-1', 'mutvirus-1', 'wtDNA', 'wtvirus'),\n",
      "              ('replicate-2', 'mutDNA-2', 'mutvirus-2', 'wtDNA', 'wtvirus'),\n",
      "              ('replicate-3-1', 'mutDNA-3', 'mutvirus-3-1', 'wtDNA', 'wtvirus'), \n",
      "              ('replicate-3-2', 'mutDNA-3', 'mutvirus-3-2', 'wtDNA', 'wtvirus')]\n",
      "        )\n",
      "prefsbatchfile = os.path.join(prefsdir, 'batch.csv')\n",
      "print(\"Here is the batch file that we write to CSV format to use as input:\")\n",
      "display(HTML(prefsbatch.to_html(index=False)))\n",
      "prefsbatch.to_csv(prefsbatchfile, index=False)\n",
      "\n",
      "print(\"Running dms2_batch_prefs...\")\n",
      "log = !dms2_batch_prefs \\\n",
      "        --indir {countsdir} \\\n",
      "        --batchfile {prefsbatchfile} \\\n",
      "        --outdir {prefsdir} \\\n",
      "        --summaryprefix summary \\\n",
      "        --use_existing {use_existing} \n",
      "print(\"Completed running dms2_batch_prefs\")"
     ],
     "language": "python",
     "metadata": {},
     "outputs": [
      {
       "output_type": "stream",
       "stream": "stdout",
       "text": [
        "Here is the batch file that we write to CSV format to use as input:\n"
       ]
      },
      {
       "html": [
        "<table border=\"1\" class=\"dataframe\">\n",
        "  <thead>\n",
        "    <tr style=\"text-align: right;\">\n",
        "      <th>name</th>\n",
        "      <th>pre</th>\n",
        "      <th>post</th>\n",
        "      <th>errpre</th>\n",
        "      <th>errpost</th>\n",
        "    </tr>\n",
        "  </thead>\n",
        "  <tbody>\n",
        "    <tr>\n",
        "      <td>replicate-1</td>\n",
        "      <td>mutDNA-1</td>\n",
        "      <td>mutvirus-1</td>\n",
        "      <td>wtDNA</td>\n",
        "      <td>wtvirus</td>\n",
        "    </tr>\n",
        "    <tr>\n",
        "      <td>replicate-2</td>\n",
        "      <td>mutDNA-2</td>\n",
        "      <td>mutvirus-2</td>\n",
        "      <td>wtDNA</td>\n",
        "      <td>wtvirus</td>\n",
        "    </tr>\n",
        "    <tr>\n",
        "      <td>replicate-3-1</td>\n",
        "      <td>mutDNA-3</td>\n",
        "      <td>mutvirus-3-1</td>\n",
        "      <td>wtDNA</td>\n",
        "      <td>wtvirus</td>\n",
        "    </tr>\n",
        "    <tr>\n",
        "      <td>replicate-3-2</td>\n",
        "      <td>mutDNA-3</td>\n",
        "      <td>mutvirus-3-2</td>\n",
        "      <td>wtDNA</td>\n",
        "      <td>wtvirus</td>\n",
        "    </tr>\n",
        "  </tbody>\n",
        "</table>"
       ],
       "output_type": "display_data",
       "text": [
        "<IPython.core.display.HTML object>"
       ]
      },
      {
       "output_type": "stream",
       "stream": "stdout",
       "text": [
        "Running dms2_batch_prefs...\n"
       ]
      },
      {
       "output_type": "stream",
       "stream": "stdout",
       "text": [
        "Completed running dms2_batch_prefs\n"
       ]
      }
     ],
     "prompt_number": 17
    },
    {
     "cell_type": "code",
     "collapsed": false,
     "input": [
      "!ls {prefsdir}/*_prefs.csv"
     ],
     "language": "python",
     "metadata": {},
     "outputs": [
      {
       "output_type": "stream",
       "stream": "stdout",
       "text": [
        "./results/preferences//renum_replicate-1_prefs.csv\r\n",
        "./results/preferences//renum_replicate-2_prefs.csv\r\n",
        "./results/preferences//renum_replicate-3_prefs.csv\r\n",
        "./results/preferences//replicate-1_prefs.csv\r\n",
        "./results/preferences//replicate-2_prefs.csv\r\n",
        "./results/preferences//replicate-3-1_prefs.csv\r\n",
        "./results/preferences//replicate-3-2_prefs.csv\r\n",
        "./results/preferences//replicate-3_prefs.csv\r\n"
       ]
      }
     ],
     "prompt_number": 18
    },
    {
     "cell_type": "code",
     "collapsed": false,
     "input": [
      "showPDF(os.path.join(prefsdir, 'summary_prefscorr.pdf'), width=300)"
     ],
     "language": "python",
     "metadata": {},
     "outputs": [
      {
       "output_type": "display_data",
       "png": "[encoded data removed]",
       "text": [
        "<IPython.core.display.Image object>"
       ]
      }
     ],
     "prompt_number": 19
    },
    {
     "cell_type": "markdown",
     "metadata": {},
     "source": [
      "The Pearson's $R$ ranges from 0.66 to 0.78, showing that the biological replicates are fairly reproducible. In addition, the correlation between the two technical replicates (3-1 and 3-2) is only slightly higher than that between biological replicates, which indicates that bottlenecking of variants _after_ helper-virus rescue of the viral library contribute to most of the experimental noise observed among replicates."
     ]
    },
    {
     "cell_type": "markdown",
     "metadata": {},
     "source": [
      "## Renumber preferences to H3 numbering and average across replicates\n",
      "\n",
      "We will now renumber the preferences from sequential (1, 2, ... starting from the initial Met) to H3 numbering. \n",
      "The signal peptide is numbered with negative values, and the HA1 and HA2 subunits are numbered separately. \n",
      "This numbering scheme is based on an alignment to a PDB structure for an H3 HA [4HMG](https://www.rcsb.org/pdb/explore/explore.do?structureId=4HMG). \n",
      "We will use:\n",
      "1. The [./data/H3renumbering_scheme.csv](./data/H3renumbering_scheme.csv) file to convert the sequential numbers into the H3 numbering scheme\n",
      "2. The [dms_tools2.utils.renumberSites](https://jbloomlab.github.io/dms_tools2/dms_tools2.utils.html#dms_tools2.utils.renumberSites) function to renumber the codon counts files\n",
      "\n",
      "The renumbered files will be created in a new `H3renumberedprefs` directory and will possess the same names as the original preferences files created from `dms2_batch_bcsuabmp` above.\n",
      "\n",
      "Before renumbering, we must first average across the two technical replicates of replicate 3. \n",
      "After taking the average of the technical replicates, we will renumber the preferences files.\n",
      "Finally, we will average across the biological replicates."
     ]
    },
    {
     "cell_type": "code",
     "collapsed": false,
     "input": [
      "# Average across the two technical replicates of replicate 3\n",
      "rep3df = dms_tools2.prefs.avgPrefs(\n",
      "        glob.glob('{0}/replicate-3-*_prefs.csv'.format(prefsdir)))\n",
      "rep3df.to_csv('{0}/replicate-3_prefs.csv'.format(prefsdir), index=False)"
     ],
     "language": "python",
     "metadata": {},
     "outputs": [],
     "prompt_number": 20
    },
    {
     "cell_type": "code",
     "collapsed": false,
     "input": [
      "renumberfile = './data/H3renumbering_scheme.csv'\n",
      "\n",
      "# preferences files to renumber\n",
      "prefsfiles = glob.glob('{0}/replicate-*_prefs.csv'.format(prefsdir))\n",
      "\n",
      "dms_tools2.utils.renumberSites(renumberfile, prefsfiles, missing='drop', \n",
      "        outdir=renumberedprefsdir)"
     ],
     "language": "python",
     "metadata": {},
     "outputs": [],
     "prompt_number": 21
    },
    {
     "cell_type": "code",
     "collapsed": false,
     "input": [
      "# Average across the three biological replicates\n",
      "avgprefsdf = dms_tools2.prefs.avgPrefs(\n",
      "        glob.glob('{0}/replicate-?_prefs.csv'.format(renumberedprefsdir)))\n",
      "avgprefsdf.to_csv('{0}/summary_avgprefs.csv'.format(renumberedprefsdir), index=False)\n",
      "\n",
      "seqnum_avgprefsdf = dms_tools2.prefs.avgPrefs(\n",
      "        glob.glob('{0}/replicate-?_prefs.csv'.format(prefsdir)))\n",
      "seqnum_avgprefsdf.to_csv('{0}/summary_avgprefs.csv'.format(prefsdir), index = False)\n",
      "\n",
      "avgprefs = os.path.join(renumberedprefsdir, 'summary_avgprefs.csv')\n",
      "avgprefs_seqnum = os.path.join(prefsdir, 'summary_avgprefs.csv')"
     ],
     "language": "python",
     "metadata": {},
     "outputs": [],
     "prompt_number": 22
    },
    {
     "cell_type": "markdown",
     "metadata": {},
     "source": [
      "# Fit preferences to the evolution of natural H3 sequences\n",
      "\n",
      "We will now use the preferences estimated above and fit these to the natural evolution of human H3N2 and swine H3N2 HA sequences. \n",
      "To do so, we will fit an experimentally-informed codon substitution model (ExpCM) (see [Bloom 2014](http://mbe.oxfordjournals.org/content/31/8/1956) and [Hilton and Bloom 2017](https://peerj.com/articles/3657/)) using the preferences and compare the ExpCM with conventional codon substitution models.\n",
      "We will accomplish this using the [phydms](http://jbloomlab.github.io/phydms/) software ([Hilton and Bloom 2017](https://peerj.com/articles/3657/)).\n",
      "\n",
      "For the phylogenetic fitting, we will use an alignment of human H3 HA sequences.\n",
      "We downloaded all full-length human H3N2 HA sequences from the [Influenza Virus Resource](https://www.ncbi.nlm.nih.gov/genomes/FLU/Database/nph-select.cgi?go=database), and subsampled two sequences per year.\n",
      "We then aligned the sequences using `MAFFT`, and the aligned sequences are in the [./data](./data) directory as `H3_human_alignment.fa`.\n",
      "\n",
      "Note that [RAxML](https://sco.h-its.org/exelixis/web/software/raxml/index.html) must be available at the path specified in the cell below."
     ]
    },
    {
     "cell_type": "code",
     "collapsed": false,
     "input": [
      "# print(\"Using the following version of phydms:\")\n",
      "# !phydms -v\n",
      "\n",
      "# raxmlpath = 'raxml'\n",
      "# hosts = ['human', 'swine']\n",
      "\n",
      "# for host in hosts:\n",
      "#     alignment = './data/H3_{0}_alignment.fa'.format(host)\n",
      "#     modelcomparison = '{0}/{1}_modelcomparison.md'.format(phydmsdir, host)\n",
      "#     if use_existing == 'yes' and os.path.isfile(modelcomparison):\n",
      "#         print('Results of phydms analysis for {0} alignment already exist.'.format(host))\n",
      "#     else:\n",
      "#         print('Running phydms_comprehensive...')\n",
      "#         outprefix = '{0}/{1}'.format(phydmsdir, host)\n",
      "#         log = !phydms_comprehensive \\\n",
      "#                {outprefix} \\\n",
      "#                {alignment} \\\n",
      "#                {avgprefs_seqnum} \\\n",
      "#                --raxml {raxmlpath} \\\n",
      "#                --omegabysite\n",
      "#         print('Analysis for {0} alignment complete.'.format(host))"
     ],
     "language": "python",
     "metadata": {},
     "outputs": [],
     "prompt_number": 23
    },
    {
     "cell_type": "code",
     "collapsed": false,
     "input": [
      "print(\"Using the following version of phydms:\")\n",
      "!phydms -v\n",
      "\n",
      "raxmlpath = 'raxmlHPC-SSE3'\n",
      "newphydmsdir = './results/new_phydms/'\n",
      "\n",
      "for a in ['1', '2']:\n",
      "    alignment = './data/H3_FourPerYear_{0}.fa'.format(a)\n",
      "    modelcomparison = '{0}/alignment_{1}_modelcomparison.md'.format(newphydmsdir, a)\n",
      "    if use_existing == 'yes' and os.path.isfile(modelcomparison):\n",
      "        print('Results of phydms analysis for alignment #{0} already exist.'.format(a))\n",
      "    else:\n",
      "        print('Running phydms_comprehensive...')\n",
      "        outprefix = '{0}/alignment_{1}'.format(newphydmsdir, a)\n",
      "        !phydms_comprehensive \\\n",
      "                {outprefix} \\\n",
      "                {alignment} \\\n",
      "                {avgprefs_seqnum} \\\n",
      "                --raxml {raxmlpath} \\\n",
      "                --omegabysite\n",
      "        print('Analysis for alignment #{0} complete.'.format(a))"
     ],
     "language": "python",
     "metadata": {
      "scrolled": false
     },
     "outputs": [
      {
       "output_type": "stream",
       "stream": "stdout",
       "text": [
        "Using the following version of phydms:\n"
       ]
      },
      {
       "output_type": "stream",
       "stream": "stdout",
       "text": [
        "phydms 2.2.1\r\n"
       ]
      },
      {
       "output_type": "stream",
       "stream": "stdout",
       "text": [
        "Running phydms_comprehensive...\n"
       ]
      },
      {
       "output_type": "stream",
       "stream": "stdout",
       "text": [
        "2018-02-18 13:57:12,003 - INFO - Beginning execution of phydms_comprehensive in directory /fh/fast/bloom_j/computational_notebooks/jmlee34/2017/Perth2009-DMS-Manuscript/analysis_code\r\n",
        "\r\n",
        "2018-02-18 13:57:12,003 - INFO - Progress is being logged to ./results/new_phydms//alignment_1.log\r\n",
        "\r\n",
        "2018-02-18 13:57:12,003 - INFO - Version information:\r\n",
        "\tTime and date: Sun Feb 18 13:57:10 2018\r\n",
        "\tPlatform: Linux-3.13.0-49-generic-x86_64-with-Ubuntu-14.04-trusty\r\n",
        "\tPython version: 3.4.3 (default, Oct 14 2015, 20:28:29)  [GCC 4.8.4]\r\n",
        "\tphydms version: 2.2.1\r\n",
        "\tBio version: 1.70\r\n",
        "\tcython version: 0.27.3\r\n",
        "\tnumpy version: 1.14.0\r\n",
        "\tscipy version: 1.0.0\r\n",
        "\tmatplotlib version: 2.1.2\r\n",
        "\tnatsort version: 5.2.0\r\n",
        "\tsympy version: 1.1.1\r\n",
        "\tsix version: 1.11.0\r\n",
        "\tpandas version: 0.22.0\r\n",
        "\tpyvolve version: 0.8.7\r\n",
        "\tstatsmodels version: 0.8.0\r\n",
        "\tweblogolib version: 3.5.0\r\n",
        "\tPyPDF2 version: 1.26.0\r\n",
        "\r\n",
        "2018-02-18 13:57:12,004 - INFO - Parsed the following command-line arguments:\r\n",
        "\tomegabysite = True\r\n",
        "\tprefsfiles = ['./results/preferences/summary_avgprefs.csv']\r\n",
        "\traxml = raxmlHPC-SSE3\r\n",
        "\tbrlen = optimize\r\n",
        "\talignment = ./data/H3_FourPerYear_1.fa\r\n",
        "\tncpus = -1\r\n",
        "\ttree = None\r\n",
        "\tnoavgprefs = False\r\n",
        "\tgammaomega = False\r\n",
        "\toutprefix = ./results/new_phydms//alignment_1_\r\n",
        "\tgammabeta = False\r\n",
        "\tdiffprefsbysite = False\r\n",
        "\trandprefs = False\r\n",
        "\r\n",
        "2018-02-18 13:57:12,004 - INFO - Checking that the alignment ./data/H3_FourPerYear_1.fa is valid...\r\n"
       ]
      },
      {
       "output_type": "stream",
       "stream": "stdout",
       "text": [
        "2018-02-18 13:57:12,888 - INFO - Valid alignment specifying 185 sequences of length 1698.\r\n",
        "\r\n",
        "2018-02-18 13:57:12,889 - INFO - Tree not specified.\r\n",
        "2018-02-18 13:57:12,902 - INFO - Inferring tree with RAxML using command raxmlHPC-SSE3\r\n"
       ]
      },
      {
       "output_type": "stream",
       "stream": "stdout",
       "text": [
        "2018-02-18 13:57:47,735 - INFO - RAxML inferred tree is now named ./results/new_phydms//alignment_1_RAxML_tree.newick\r\n",
        "2018-02-18 13:57:47,746 - INFO - Starting analysis to optimize tree in ./results/new_phydms//alignment_1_RAxML_tree.newick using model averaged_ExpCM_summary_avgprefs. The command is: phydms ./data/H3_FourPerYear_1.fa ./results/new_phydms//alignment_1_RAxML_tree.newick ExpCM_./results/preferences/summary_avgprefs.csv ./results/new_phydms//alignment_1_averaged_ExpCM_summary_avgprefs --brlen optimize --omegabysite --avgprefs --ncpus 7\r\n",
        "\r\n",
        "2018-02-18 13:57:47,747 - INFO - Starting analysis to optimize tree in ./results/new_phydms//alignment_1_RAxML_tree.newick using model YNGKP_M5. The command is: phydms ./data/H3_FourPerYear_1.fa ./results/new_phydms//alignment_1_RAxML_tree.newick YNGKP_M5 ./results/new_phydms//alignment_1_YNGKP_M5 --brlen optimize --omegabysite --ncpus 1\r\n",
        "\r\n",
        "2018-02-18 13:57:47,747 - INFO - Starting analysis to optimize tree in ./results/new_phydms//alignment_1_RAxML_tree.newick using model YNGKP_M0. The command is: phydms ./data/H3_FourPerYear_1.fa ./results/new_phydms//alignment_1_RAxML_tree.newick YNGKP_M0 ./results/new_phydms//alignment_1_YNGKP_M0 --brlen optimize --omegabysite --ncpus 1\r\n",
        "\r\n",
        "2018-02-18 13:57:47,747 - INFO - Starting analysis to optimize tree in ./results/new_phydms//alignment_1_RAxML_tree.newick using model ExpCM_summary_avgprefs. The command is: phydms ./data/H3_FourPerYear_1.fa ./results/new_phydms//alignment_1_RAxML_tree.newick ExpCM_./results/preferences/summary_avgprefs.csv ./results/new_phydms//alignment_1_ExpCM_summary_avgprefs --brlen optimize --omegabysite --ncpus 7\r\n",
        "\r\n"
       ]
      },
      {
       "output_type": "stream",
       "stream": "stdout",
       "text": [
        "2018-02-18 14:33:19,057 - INFO - Analysis completed for YNGKP_M0\r\n",
        "2018-02-18 14:33:19,058 - INFO - Found expected output file ./results/new_phydms//alignment_1_YNGKP_M0_log.log\r\n",
        "2018-02-18 14:33:19,058 - INFO - Found expected output file ./results/new_phydms//alignment_1_YNGKP_M0_tree.newick\r\n",
        "2018-02-18 14:33:19,060 - INFO - Found expected output file ./results/new_phydms//alignment_1_YNGKP_M0_loglikelihood.txt\r\n",
        "2018-02-18 14:33:19,061 - INFO - Found expected output file ./results/new_phydms//alignment_1_YNGKP_M0_modelparams.txt\r\n",
        "2018-02-18 14:33:19,061 - INFO - Found expected output file ./results/new_phydms//alignment_1_YNGKP_M0_omegabysite.txt\r\n",
        "2018-02-18 14:33:19,061 - INFO - Analysis successful for YNGKP_M0\r\n",
        "\r\n"
       ]
      },
      {
       "output_type": "stream",
       "stream": "stdout",
       "text": [
        "2018-02-18 14:50:25,111 - INFO - Analysis completed for averaged_ExpCM_summary_avgprefs\r\n",
        "2018-02-18 14:50:25,112 - INFO - Found expected output file ./results/new_phydms//alignment_1_averaged_ExpCM_summary_avgprefs_log.log\r\n",
        "2018-02-18 14:50:25,112 - INFO - Found expected output file ./results/new_phydms//alignment_1_averaged_ExpCM_summary_avgprefs_tree.newick\r\n",
        "2018-02-18 14:50:25,113 - INFO - Found expected output file ./results/new_phydms//alignment_1_averaged_ExpCM_summary_avgprefs_loglikelihood.txt\r\n",
        "2018-02-18 14:50:25,113 - INFO - Found expected output file ./results/new_phydms//alignment_1_averaged_ExpCM_summary_avgprefs_modelparams.txt\r\n",
        "2018-02-18 14:50:25,113 - INFO - Found expected output file ./results/new_phydms//alignment_1_averaged_ExpCM_summary_avgprefs_omegabysite.txt\r\n",
        "2018-02-18 14:50:25,113 - INFO - Analysis successful for averaged_ExpCM_summary_avgprefs\r\n",
        "\r\n"
       ]
      },
      {
       "output_type": "stream",
       "stream": "stdout",
       "text": [
        "2018-02-18 14:58:21,589 - INFO - Analysis completed for ExpCM_summary_avgprefs\r\n",
        "2018-02-18 14:58:21,589 - INFO - Found expected output file ./results/new_phydms//alignment_1_ExpCM_summary_avgprefs_log.log\r\n",
        "2018-02-18 14:58:21,590 - INFO - Found expected output file ./results/new_phydms//alignment_1_ExpCM_summary_avgprefs_tree.newick\r\n",
        "2018-02-18 14:58:21,590 - INFO - Found expected output file ./results/new_phydms//alignment_1_ExpCM_summary_avgprefs_loglikelihood.txt\r\n",
        "2018-02-18 14:58:21,591 - INFO - Found expected output file ./results/new_phydms//alignment_1_ExpCM_summary_avgprefs_modelparams.txt\r\n",
        "2018-02-18 14:58:21,591 - INFO - Found expected output file ./results/new_phydms//alignment_1_ExpCM_summary_avgprefs_omegabysite.txt\r\n",
        "2018-02-18 14:58:21,591 - INFO - Analysis successful for ExpCM_summary_avgprefs\r\n",
        "\r\n"
       ]
      },
      {
       "output_type": "stream",
       "stream": "stdout",
       "text": [
        "2018-02-18 15:09:18,303 - INFO - Analysis completed for YNGKP_M5\r\n",
        "2018-02-18 15:09:18,304 - INFO - Found expected output file ./results/new_phydms//alignment_1_YNGKP_M5_log.log\r\n",
        "2018-02-18 15:09:18,305 - INFO - Found expected output file ./results/new_phydms//alignment_1_YNGKP_M5_tree.newick\r\n",
        "2018-02-18 15:09:18,305 - INFO - Found expected output file ./results/new_phydms//alignment_1_YNGKP_M5_loglikelihood.txt\r\n",
        "2018-02-18 15:09:18,306 - INFO - Found expected output file ./results/new_phydms//alignment_1_YNGKP_M5_modelparams.txt\r\n",
        "2018-02-18 15:09:18,306 - INFO - Found expected output file ./results/new_phydms//alignment_1_YNGKP_M5_omegabysite.txt\r\n",
        "2018-02-18 15:09:18,306 - INFO - Analysis successful for YNGKP_M5\r\n",
        "\r\n"
       ]
      },
      {
       "output_type": "stream",
       "stream": "stdout",
       "text": [
        "2018-02-18 15:09:19,324 - INFO - Successful completion of phydms_comprehensive\r\n"
       ]
      },
      {
       "output_type": "stream",
       "stream": "stdout",
       "text": [
        "Analysis for alignment #1 complete.\n",
        "Running phydms_comprehensive...\n"
       ]
      },
      {
       "output_type": "stream",
       "stream": "stdout",
       "text": [
        "2018-02-18 15:09:22,117 - INFO - Beginning execution of phydms_comprehensive in directory /fh/fast/bloom_j/computational_notebooks/jmlee34/2017/Perth2009-DMS-Manuscript/analysis_code\r\n",
        "\r\n",
        "2018-02-18 15:09:22,117 - INFO - Progress is being logged to ./results/new_phydms//alignment_2.log\r\n",
        "\r\n",
        "2018-02-18 15:09:22,117 - INFO - Version information:\r\n",
        "\tTime and date: Sun Feb 18 15:09:20 2018\r\n",
        "\tPlatform: Linux-3.13.0-49-generic-x86_64-with-Ubuntu-14.04-trusty\r\n",
        "\tPython version: 3.4.3 (default, Oct 14 2015, 20:28:29)  [GCC 4.8.4]\r\n",
        "\tphydms version: 2.2.1\r\n",
        "\tBio version: 1.70\r\n",
        "\tcython version: 0.27.3\r\n",
        "\tnumpy version: 1.14.0\r\n",
        "\tscipy version: 1.0.0\r\n",
        "\tmatplotlib version: 2.1.2\r\n",
        "\tnatsort version: 5.2.0\r\n",
        "\tsympy version: 1.1.1\r\n",
        "\tsix version: 1.11.0\r\n",
        "\tpandas version: 0.22.0\r\n",
        "\tpyvolve version: 0.8.7\r\n",
        "\tstatsmodels version: 0.8.0\r\n",
        "\tweblogolib version: 3.5.0\r\n",
        "\tPyPDF2 version: 1.26.0\r\n",
        "\r\n",
        "2018-02-18 15:09:22,117 - INFO - Parsed the following command-line arguments:\r\n",
        "\talignment = ./data/H3_FourPerYear_2.fa\r\n",
        "\traxml = raxmlHPC-SSE3\r\n",
        "\tgammabeta = False\r\n",
        "\tomegabysite = True\r\n",
        "\tgammaomega = False\r\n",
        "\trandprefs = False\r\n",
        "\tncpus = -1\r\n",
        "\tdiffprefsbysite = False\r\n",
        "\tnoavgprefs = False\r\n",
        "\tprefsfiles = ['./results/preferences/summary_avgprefs.csv']\r\n",
        "\tbrlen = optimize\r\n",
        "\toutprefix = ./results/new_phydms//alignment_2_\r\n",
        "\ttree = None\r\n",
        "\r\n",
        "2018-02-18 15:09:22,118 - INFO - Checking that the alignment ./data/H3_FourPerYear_2.fa is valid...\r\n"
       ]
      },
      {
       "output_type": "stream",
       "stream": "stdout",
       "text": [
        "2018-02-18 15:09:22,938 - INFO - Valid alignment specifying 185 sequences of length 1698.\r\n",
        "\r\n",
        "2018-02-18 15:09:22,938 - INFO - Tree not specified.\r\n",
        "2018-02-18 15:09:22,948 - INFO - Inferring tree with RAxML using command raxmlHPC-SSE3\r\n"
       ]
      },
      {
       "output_type": "stream",
       "stream": "stdout",
       "text": [
        "2018-02-18 15:10:04,174 - INFO - RAxML inferred tree is now named ./results/new_phydms//alignment_2_RAxML_tree.newick\r\n"
       ]
      },
      {
       "output_type": "stream",
       "stream": "stdout",
       "text": [
        "2018-02-18 15:10:04,263 - INFO - Removed the following existing files that have names that match the names of output files that will be created: ./results/new_phydms//alignment_2_YNGKP_M0_log.log, ./results/new_phydms//alignment_2_ExpCM_summary_avgprefs_log.log, ./results/new_phydms//alignment_2_averaged_ExpCM_summary_avgprefs_log.log, ./results/new_phydms//alignment_2_YNGKP_M5_log.log\r\n",
        "\r\n",
        "2018-02-18 15:10:04,263 - INFO - Starting analysis to optimize tree in ./results/new_phydms//alignment_2_RAxML_tree.newick using model YNGKP_M0. The command is: phydms ./data/H3_FourPerYear_2.fa ./results/new_phydms//alignment_2_RAxML_tree.newick YNGKP_M0 ./results/new_phydms//alignment_2_YNGKP_M0 --brlen optimize --omegabysite --ncpus 1\r\n",
        "\r\n",
        "2018-02-18 15:10:04,264 - INFO - Starting analysis to optimize tree in ./results/new_phydms//alignment_2_RAxML_tree.newick using model ExpCM_summary_avgprefs. The command is: phydms ./data/H3_FourPerYear_2.fa ./results/new_phydms//alignment_2_RAxML_tree.newick ExpCM_./results/preferences/summary_avgprefs.csv ./results/new_phydms//alignment_2_ExpCM_summary_avgprefs --brlen optimize --omegabysite --ncpus 7\r\n",
        "\r\n",
        "2018-02-18 15:10:04,264 - INFO - Starting analysis to optimize tree in ./results/new_phydms//alignment_2_RAxML_tree.newick using model averaged_ExpCM_summary_avgprefs. The command is: phydms ./data/H3_FourPerYear_2.fa ./results/new_phydms//alignment_2_RAxML_tree.newick ExpCM_./results/preferences/summary_avgprefs.csv ./results/new_phydms//alignment_2_averaged_ExpCM_summary_avgprefs --brlen optimize --omegabysite --avgprefs --ncpus 7\r\n",
        "\r\n",
        "2018-02-18 15:10:04,264 - INFO - Starting analysis to optimize tree in ./results/new_phydms//alignment_2_RAxML_tree.newick using model YNGKP_M5. The command is: phydms ./data/H3_FourPerYear_2.fa ./results/new_phydms//alignment_2_RAxML_tree.newick YNGKP_M5 ./results/new_phydms//alignment_2_YNGKP_M5 --brlen optimize --omegabysite --ncpus 1\r\n",
        "\r\n"
       ]
      },
      {
       "output_type": "stream",
       "stream": "stdout",
       "text": [
        "2018-02-18 15:51:37,948 - INFO - Analysis completed for YNGKP_M0\r\n",
        "2018-02-18 15:51:37,949 - INFO - Found expected output file ./results/new_phydms//alignment_2_YNGKP_M0_log.log\r\n",
        "2018-02-18 15:51:37,950 - INFO - Found expected output file ./results/new_phydms//alignment_2_YNGKP_M0_tree.newick\r\n",
        "2018-02-18 15:51:37,950 - INFO - Found expected output file ./results/new_phydms//alignment_2_YNGKP_M0_loglikelihood.txt\r\n",
        "2018-02-18 15:51:37,951 - INFO - Found expected output file ./results/new_phydms//alignment_2_YNGKP_M0_modelparams.txt\r\n",
        "2018-02-18 15:51:37,951 - INFO - Found expected output file ./results/new_phydms//alignment_2_YNGKP_M0_omegabysite.txt\r\n",
        "2018-02-18 15:51:37,951 - INFO - Analysis successful for YNGKP_M0\r\n",
        "\r\n"
       ]
      },
      {
       "output_type": "stream",
       "stream": "stdout",
       "text": [
        "2018-02-18 16:11:24,174 - INFO - Analysis completed for averaged_ExpCM_summary_avgprefs\r\n",
        "2018-02-18 16:11:24,174 - INFO - Found expected output file ./results/new_phydms//alignment_2_averaged_ExpCM_summary_avgprefs_log.log\r\n",
        "2018-02-18 16:11:24,175 - INFO - Found expected output file ./results/new_phydms//alignment_2_averaged_ExpCM_summary_avgprefs_tree.newick\r\n",
        "2018-02-18 16:11:24,175 - INFO - Found expected output file ./results/new_phydms//alignment_2_averaged_ExpCM_summary_avgprefs_loglikelihood.txt\r\n",
        "2018-02-18 16:11:24,176 - INFO - Found expected output file ./results/new_phydms//alignment_2_averaged_ExpCM_summary_avgprefs_modelparams.txt\r\n",
        "2018-02-18 16:11:24,176 - INFO - Found expected output file ./results/new_phydms//alignment_2_averaged_ExpCM_summary_avgprefs_omegabysite.txt\r\n",
        "2018-02-18 16:11:24,176 - INFO - Analysis successful for averaged_ExpCM_summary_avgprefs\r\n",
        "\r\n"
       ]
      },
      {
       "output_type": "stream",
       "stream": "stdout",
       "text": [
        "2018-02-18 16:18:00,571 - INFO - Analysis completed for ExpCM_summary_avgprefs\r\n",
        "2018-02-18 16:18:00,571 - INFO - Found expected output file ./results/new_phydms//alignment_2_ExpCM_summary_avgprefs_log.log\r\n",
        "2018-02-18 16:18:00,572 - INFO - Found expected output file ./results/new_phydms//alignment_2_ExpCM_summary_avgprefs_tree.newick\r\n",
        "2018-02-18 16:18:00,573 - INFO - Found expected output file ./results/new_phydms//alignment_2_ExpCM_summary_avgprefs_loglikelihood.txt\r\n",
        "2018-02-18 16:18:00,573 - INFO - Found expected output file ./results/new_phydms//alignment_2_ExpCM_summary_avgprefs_modelparams.txt\r\n",
        "2018-02-18 16:18:00,573 - INFO - Found expected output file ./results/new_phydms//alignment_2_ExpCM_summary_avgprefs_omegabysite.txt\r\n",
        "2018-02-18 16:18:00,574 - INFO - Analysis successful for ExpCM_summary_avgprefs\r\n",
        "\r\n"
       ]
      },
      {
       "output_type": "stream",
       "stream": "stdout",
       "text": [
        "2018-02-18 16:28:02,214 - INFO - Analysis completed for YNGKP_M5\r\n",
        "2018-02-18 16:28:02,215 - INFO - Found expected output file ./results/new_phydms//alignment_2_YNGKP_M5_log.log\r\n",
        "2018-02-18 16:28:02,215 - INFO - Found expected output file ./results/new_phydms//alignment_2_YNGKP_M5_tree.newick\r\n",
        "2018-02-18 16:28:02,216 - INFO - Found expected output file ./results/new_phydms//alignment_2_YNGKP_M5_loglikelihood.txt\r\n",
        "2018-02-18 16:28:02,217 - INFO - Found expected output file ./results/new_phydms//alignment_2_YNGKP_M5_modelparams.txt\r\n",
        "2018-02-18 16:28:02,217 - INFO - Found expected output file ./results/new_phydms//alignment_2_YNGKP_M5_omegabysite.txt\r\n",
        "2018-02-18 16:28:02,217 - INFO - Analysis successful for YNGKP_M5\r\n",
        "\r\n"
       ]
      },
      {
       "output_type": "stream",
       "stream": "stdout",
       "text": [
        "2018-02-18 16:28:03,234 - INFO - Successful completion of phydms_comprehensive\r\n"
       ]
      },
      {
       "output_type": "stream",
       "stream": "stdout",
       "text": [
        "Analysis for alignment #2 complete.\n"
       ]
      }
     ],
     "prompt_number": 24
    },
    {
     "cell_type": "code",
     "collapsed": false,
     "input": [
      "# print('This is the model comparison using a human alignment:')\n",
      "# modelcomparison = '{0}/human_modelcomparison.md'.format(phydmsdir, host)\n",
      "# display(Markdown(modelcomparison))"
     ],
     "language": "python",
     "metadata": {},
     "outputs": [],
     "prompt_number": 25
    },
    {
     "cell_type": "markdown",
     "metadata": {},
     "source": [
      "The results above show that the ExpCM using the averaged preferences performs substantially better than traditional codon substitution models in describing the evolution of human H3N2 viruses in nature. \n",
      "\n",
      "The ExpCM has an $\\omega$ value close to 1 whereas traditional codon substitution models have an $\\omega <<$ 1, suggesting that our experiments capture amino-acid constraints on HA.\n",
      "\n",
      "In addition, the ExpCM fit a stringency parameter $\\beta$ that is > 1, indicating that natural selection prefers the same amino acids as in our experiments, but with greater stringency.\n",
      "We can use this stringency parameter to re-scale our averaged preferences (as described in [Hilton et al 2017](https://peerj.com/articles/3657/)), and we will use these averaged and re-scaled preferences for all downstream analyses below."
     ]
    },
    {
     "cell_type": "markdown",
     "metadata": {},
     "source": [
      "## Display preferences as a rescaled logoplot\n",
      "\n",
      "I will use the rescaling parameter ( $\\beta$ ) from `phydms_comprehensive` to create logoplots of rescaled preferences.\n",
      "First, I will read in the beta values from the `ExpCM *_modelparams.txt` file."
     ]
    },
    {
     "cell_type": "code",
     "collapsed": false,
     "input": [
      "# params_file = open('{0}/human_ExpCM_summary_avgprefs_modelparams.txt'\n",
      "#         .format(phydmsdir), 'r')\n",
      "# params_lst = [line.rstrip() for line in params_file.readlines()]\n",
      "# params_file.close()\n",
      "# beta = float([line for line in params_lst if 'beta' in line][0][7:])\n",
      "# print ('Beta parameter for ExpCM for the averaged preferences = {0}'.format(beta))"
     ],
     "language": "python",
     "metadata": {},
     "outputs": [],
     "prompt_number": 26
    },
    {
     "cell_type": "heading",
     "level": 2,
     "metadata": {},
     "source": [
      "Re-scale the preferences"
     ]
    },
    {
     "cell_type": "code",
     "collapsed": true,
     "input": [
      "# unscaled_prefsdf = pd.read_csv(avgprefs)\n",
      "# rescaled_prefsdf = dms_tools2.prefs.rescalePrefs(unscaled_prefsdf, beta)\n",
      "\n",
      "# rescaledavgprefs = os.path.join(renumberedprefsdir, 'summary_avgprefs_rescaled.csv')\n",
      "# rescaled_prefsdf.to_csv(rescaledavgprefs, index=False)"
     ],
     "language": "python",
     "metadata": {},
     "outputs": [],
     "prompt_number": 27
    },
    {
     "cell_type": "code",
     "collapsed": true,
     "input": [
      "# # Domain sites file\n",
      "# domainfile = './data/domains.csv'\n",
      "\n",
      "# # Epitope sites file\n",
      "# epitopefile = './data/wolf_epitope_sites.csv'"
     ],
     "language": "python",
     "metadata": {},
     "outputs": [],
     "prompt_number": 28
    },
    {
     "cell_type": "code",
     "collapsed": true,
     "input": [
      "# seq_wtoverlayfile = os.path.join(prefsdir, 'wildtypeoverlayfile.csv')\n",
      "# aacounts = dms_tools2.utils.codonToAACounts(\n",
      "#         pd.read_csv(os.path.join(countsdir, 'wtDNA_codoncounts.csv')))\n",
      "# aacounts.query('wildtype != \"*\"')[['site', 'wildtype']].to_csv(\n",
      "#         seq_wtoverlayfile, index=False)\n",
      "\n",
      "# wtoverlayfile = os.path.join(renumberedprefsdir, 'wildtypeoverlayfile.csv')\n",
      "\n",
      "# dms_tools2.utils.renumberSites(renumberfile, [seq_wtoverlayfile], \n",
      "#         missing='drop', outdir=renumberedprefsdir)"
     ],
     "language": "python",
     "metadata": {},
     "outputs": [],
     "prompt_number": 29
    },
    {
     "cell_type": "markdown",
     "metadata": {},
     "source": [
      "Next we will create the logoplot from the averaged and re-scaled preferences and display it in this notebook.\n",
      "The two overlay bars will show (1) if a site is an epitope or non-epitope site, according to the set of epitope sites defined by [Wolf et al 2006](https://biologydirect.biomedcentral.com/articles/10.1186/1745-6150-1-34), and (2) the HA domain a site falls in.\n",
      "The domains are HA1 ecto. = HA1 ectodomain, HA2 ecto. = HA2 ectodomain, TM = transmembrane domain, cyto. tail = cytoplasmic tail, and sig. pep. = signal peptide."
     ]
    },
    {
     "cell_type": "code",
     "collapsed": false,
     "input": [
      "# rescaledlogoname = 'rescaled-avgprefs'\n",
      "\n",
      "# log = !dms2_logoplot \\\n",
      "#         --prefs {rescaledavgprefs} \\\n",
      "#         --name {rescaledlogoname} \\\n",
      "#         --outdir {logodir} \\\n",
      "#         --overlay1 {wtoverlayfile} wildtype wildtype \\\n",
      "#         --overlay2 {domainfile} DOM \"domain\" \\\n",
      "#         --overlay3 {epitopefile} epi \"epitope site?\" \\\n",
      "#         --overlaycolormap \"terrain\" \\\n",
      "#         --nperline 81 \\\n",
      "#         --use_existing {use_existing}\n",
      "        \n",
      "# rescaledlogoplot = os.path.join(logodir, '{0}_prefs.pdf'.format(rescaledlogoname))\n",
      "# showPDF(rescaledlogoplot)"
     ],
     "language": "python",
     "metadata": {},
     "outputs": [],
     "prompt_number": 30
    },
    {
     "cell_type": "markdown",
     "metadata": {},
     "source": [
      "## Calculate the site entropy and write to a new preferences file\n",
      "\n",
      "We will also calculate the mutational tolerance of each site using two metrics: the Shannon entropy and the number of effective amino acids. \n",
      "This will allow us to examine the mutational tolerance of different regions of the Perth/2009 H3 HA.\n",
      "The preferences file with the site entropies will be written into a new preferences file."
     ]
    },
    {
     "cell_type": "code",
     "collapsed": true,
     "input": [
      "# entropy_prefsdf = dms_tools2.prefs.prefsEntropy(rescaled_prefsdf, dms_tools2.AAS)\n",
      "\n",
      "# entropyprefs = os.path.join(renumberedprefsdir, \n",
      "#         'summary_avgprefs_rescaled_entropies.csv')\n",
      "# entropy_prefsdf.to_csv(entropyprefs, index=False)"
     ],
     "language": "python",
     "metadata": {},
     "outputs": [],
     "prompt_number": 31
    },
    {
     "cell_type": "markdown",
     "metadata": {},
     "source": [
      "# Compare the preferences between the HA homologs\n",
      "\n",
      "In this section, we will compare the preferences between the two HA variants: **Perth/2009 H3** and **WSN/1933 H1**. \n",
      "These two HA's share 42% amino-acid identity.\n",
      "The WSN/1933 HA preferences were previously measured in [Doud and Bloom (2016)](http://www.mdpi.com/1999-4915/8/6/155). \n",
      "As a control, we will also compare the preferences of each of the HA variants with the non-homologous protein HIV Env (BF520).\n",
      "The HIV Env preferences were previously measured in [Haddox et al (2017)](https://www.biorxiv.org/content/early/2017/12/16/235630)."
     ]
    },
    {
     "cell_type": "markdown",
     "metadata": {},
     "source": [
      "First, we need to renumber and rescale the preferences so that we can make comparisons between the two HA homologs. \n",
      "We aligned the Perth/2009 H3 and WSN/1933 H1 amino-acid sequences using `mafft`. \n",
      "The alignment `fasta` file is provided in the [`./data/`](./data/) directory as `Perth2009_WSN_aa_align.fa`.\n",
      "\n",
      "I will renumber each of the preferences file based on the alignment and remove sites that do not align. The renumbering files are provided in the [`./data/`](./data/) directory as `<homolog>_compareprefs_renumber.csv`, where `<homolog>` is \"Perth2009\" or \"WSN\".\n",
      "\n",
      "The WSN preferences will be rescaled using the stringency parameter fit in the example analysis notebook [Doud2016](https://github.com/jbloomlab/dms_tools2/blob/master/examples/Doud2016/analysis_notebook.ipynb) from `dms_tools2`.\n",
      "The renumbered unscaled preferences files for each replicate will be created in the `preferences` or `WSNpreferences` directories.\n",
      "The renumbered and re-scaled preferences will be created in the `prefsdist` directory."
     ]
    },
    {
     "cell_type": "code",
     "collapsed": true,
     "input": [
      "# # the homologs that we are examining\n",
      "# homologs = ['Perth', 'WSN']\n",
      "\n",
      "# # Renumber unscaled preferences\n",
      "# Perth_renumbfile = './data/Perth2009_compareprefs_renumber.csv'\n",
      "# dms_tools2.utils.renumberSites(\n",
      "#         Perth_renumbfile, \n",
      "#         sorted(glob.glob('{0}/replicate-?_prefs.csv'.format(prefsdir))), \n",
      "#         missing='drop', \n",
      "#         outprefix='renum_')\n",
      "\n",
      "# WSN_renumbfile = './data/WSN_compareprefs_renumber.csv'\n",
      "# dms_tools2.utils.renumberSites(\n",
      "#         WSN_renumbfile, \n",
      "#         sorted(glob.glob('{0}/WSN_replicate-?_prefs.csv'.format(inputdir))), \n",
      "#         missing='drop', \n",
      "#         outfiles=['{0}/renum_replicate-{1}_prefs.csv'.format(WSNprefsdir, x) \n",
      "#                   for x in range(1,4)])\n",
      "\n",
      "# # Rescale WSN HA preferences\n",
      "# WSN_stringency = 2.05\n",
      "# for r in [1, 2, 3]:\n",
      "#     unscaled = '{0}/renum_replicate-{1}_prefs.csv'.format(WSNprefsdir, r)\n",
      "#     rescaled = os.path.join(prefsdistdir, \n",
      "#             'WSN_replicate-{0}_prefs_rescaled.csv'.format(r))\n",
      "#     (dms_tools2.prefs.rescalePrefs(pd.read_csv(unscaled), WSN_stringency)\n",
      "#             .to_csv(rescaled, index=False))\n",
      "    \n",
      "# # Rescale Perth/2009 HA preferences\n",
      "# for r in [1, 2, 3]:\n",
      "#     unscaled = '{0}/renum_replicate-{1}_prefs.csv'.format(prefsdir, r)\n",
      "#     rescaled = os.path.join(prefsdistdir, \n",
      "#             'Perth_replicate-{0}_prefs_rescaled.csv'.format(r))\n",
      "#     (dms_tools2.prefs.rescalePrefs(pd.read_csv(unscaled), beta)\n",
      "#             .to_csv(rescaled, index=False))"
     ],
     "language": "python",
     "metadata": {},
     "outputs": [],
     "prompt_number": 32
    },
    {
     "cell_type": "markdown",
     "metadata": {},
     "source": [
      "## Correlate the Perth/2009 H3 and WSN/1933 H1 preferences\n",
      "\n",
      "First, we will examine the correlations between Perth/2009 and WSN HA preferences."
     ]
    },
    {
     "cell_type": "code",
     "collapsed": false,
     "input": [
      "# homolog_corrs = os.path.join(prefsdistdir, 'homolog_correlations.pdf')\n",
      "\n",
      "# prefs_names = ['WSN rep-1', 'WSN rep-2', 'WSN rep-3', \n",
      "#                'Perth rep-1', 'Perth rep-2', 'Perth rep-3']\n",
      "\n",
      "# allHAprefs = glob.glob('{0}/renum_replicate-*_prefs.csv'.format(prefsdir)) \\\n",
      "#                 + glob.glob('{0}/renum_replicate-*_prefs.csv'.format(WSNprefsdir))\n",
      "\n",
      "# # how to color scatter plots depending on which homologs\n",
      "# # this will break for different numbers of homologs\n",
      "# colors = (['rebeccapurple'] * 3 + ['gray'] * 6 + ['saddlebrown'] + \n",
      "#           ['gray'] * 3 + ['saddlebrown'] * 2)\n",
      "\n",
      "# dms_tools2.plot.plotCorrMatrix(prefs_names, \n",
      "#                                sorted(allHAprefs), \n",
      "#                                homolog_corrs, \n",
      "#                                'prefs', \n",
      "#                                trim_unshared=True, \n",
      "#                                colors=colors)\n",
      "\n",
      "# showPDF(homolog_corrs)"
     ],
     "language": "python",
     "metadata": {},
     "outputs": [],
     "prompt_number": 33
    },
    {
     "cell_type": "markdown",
     "metadata": {},
     "source": [
      "From the correlations above, it is apparent that the replicates measurements on the same HA variant (purple and brown plots) are more correlated than on different variants (gray plots).\n",
      "Therefore, it seems that there are substantial shifts in the preferences between the two HA variants."
     ]
    },
    {
     "cell_type": "markdown",
     "metadata": {},
     "source": [
      "## Compute the distances between preferences\n",
      "\n",
      "In order to quantitatively compare the preferences, we will use the [compareprefs module of dms_tools2](https://jbloomlab.github.io/dms_tools2/dms_tools2.compareprefs.html) to compute $RMSD_{corrected}$ values that allow us to account for experimental noise in the measurements within a given homolog.\n",
      "\n",
      "We compare to some of the values for HIV BG505 and BF520 from [Haddox et al](https://doi.org/10.1101/235630)"
     ]
    },
    {
     "cell_type": "code",
     "collapsed": false,
     "input": [
      "# # distances between the two HA homologs\n",
      "# assert len(homologs) == 2, \"plotting needs to be refactored if > 2 homologs\"\n",
      "# prefs1 = glob.glob('{0}/Perth_replicate-*_prefs_rescaled.csv'.format(prefsdistdir))\n",
      "# prefs2 = glob.glob('{0}/WSN_replicate-*_prefs_rescaled.csv'.format(prefsdistdir))\n",
      "\n",
      "# prefsdist = dms_tools2.compareprefs.comparePrefs(prefs1, prefs2)\n",
      "# prefsdistfile = os.path.join(prefsdistdir, '{0}_to_{1}_prefs_dist.csv'.format(*homologs))\n",
      "# prefsdist.to_csv(prefsdistfile, index=False)\n",
      "\n",
      "# # distances for all randomizations of 3 replicates per homolog\n",
      "# rand_dists = []\n",
      "# assert len(prefs1) == len(prefs2) == 3, \"code expects 3 replicates / homologs\"\n",
      "# for set1 in itertools.combinations(prefs1 + prefs2, 3):\n",
      "#     set2 = [iprefs for iprefs in prefs1 + prefs2 if iprefs not in set1]\n",
      "#     rand_dists += (dms_tools2.compareprefs.comparePrefs(set1, set2)\n",
      "#                       ['RMSDcorrected'].tolist())\n",
      "\n",
      "# # distances from each homolog to BF520 Env prefs\n",
      "# env_prefs = glob.glob('{0}/Env_BF520_replicate-*_prefs_rescaled.csv'.format(inputdir))\n",
      "# ha_env_dist = {}\n",
      "# for (homolog, homologprefs) in zip(homologs, [prefs1, prefs2]):\n",
      "#     ha_env_dist[homolog] = (dms_tools2.compareprefs.comparePrefs(env_prefs, \n",
      "#             homologprefs)['RMSDcorrected'].tolist())\n",
      "    \n",
      "# # read in distances for Env homologs\n",
      "# env_dists = (pd.read_csv(os.path.join(inputdir, 'BG505_to_BF520_prefs_dist.csv'))\n",
      "#              ['RMSDcorrected']\n",
      "#              .tolist()\n",
      "#              )"
     ],
     "language": "python",
     "metadata": {},
     "outputs": [],
     "prompt_number": 34
    },
    {
     "cell_type": "markdown",
     "metadata": {},
     "source": [
      "Now we will plot the distribution of shifts in preferences for each of the homolog comparisons in a joyplot."
     ]
    },
    {
     "cell_type": "code",
     "collapsed": false,
     "input": [
      "# distplot = os.path.join(prefsdistdir, 'distance_distribution.pdf')\n",
      "\n",
      "# actual_dists = prefsdist['RMSDcorrected'].tolist()\n",
      "\n",
      "# # the data to plot\n",
      "# joyplot_data = collections.OrderedDict([\n",
      "#                 ('Perth/2009 H3\\n vs HIV Env', ha_env_dist[homologs[0]]),\n",
      "#                 ('WSN H1\\n vs HIV Env', ha_env_dist[homologs[1]]),\n",
      "#                 ('HIV Env homologs\\n (86% identity)', env_dists),\n",
      "#                 ('randomized\\n Perth/2009 vs WSN', rand_dists),\n",
      "#                 ('Perth/2009 H3 vs WSN H1\\n (42% identity)', actual_dists)])\n",
      "    \n",
      "# # colors for each comparison: same color for the two HA comparisons\n",
      "# cmap = mpl.colors.ListedColormap([\"#009E73\", \"#009E73\", \"#CC79A7\", \"#56B4E9\", \"#E69F00\"])\n",
      "\n",
      "# # make the joyplot\n",
      "# joypy.joyplot(joyplot_data,\n",
      "#               grid='x',\n",
      "#               overlap=1,\n",
      "#               linewidth=1.5,\n",
      "#               figsize=(6, 4.8),\n",
      "#               colormap = cmap,\n",
      "#              )\n",
      "# plt.xlabel('shift in preferences ($RMSD_{corrected}$)', size=13)\n",
      "\n",
      "# # save and show\n",
      "# plt.savefig(distplot)\n",
      "# showPDF(distplot, width=600)"
     ],
     "language": "python",
     "metadata": {},
     "outputs": [],
     "prompt_number": 35
    },
    {
     "cell_type": "markdown",
     "metadata": {},
     "source": [
      "The plot above shows that many sites between the Perth/2009 H3 and the WSN/1933 H1 HA's have substantially shifted. \n",
      "This is evident from the large tail in the orange distribution of shifts compared to:\n",
      "1. the distribution expected solely from experimental noise (randomized Perth/2009 and WSN, in blue)\n",
      "2. the distribution for the two HIV Env variants, which share 86% amino-acid identity (pink).\n",
      "\n",
      "However, the extent of the shifts between the two HA variants is still less than that between two non-homologous proteins (either HA and HIV Env, in green)."
     ]
    },
    {
     "cell_type": "code",
     "collapsed": false,
     "input": [
      "# # compute P-values\n",
      "# rand_dists = np.array(rand_dists)\n",
      "# actual_dists = sorted(actual_dists, reverse=True)\n",
      "# n = float(len(rand_dists))\n",
      "# pvals = [np.greater_equal(rand_dists, d).sum() / n for d in actual_dists]\n",
      "# assert pvals == sorted(pvals), \"pvals should be sorted if actual_dists sorted\"\n",
      "\n",
      "# # get minimum distance at which we reject null at FDR of 0.1\n",
      "# fdr = 0.1\n",
      "# reject = statsmodels.stats.multitest.multipletests(\n",
      "#           pvals, alpha=fdr, method='fdr_bh')[0].tolist()\n",
      "# assert any(reject), \"no significants sites at FDR, rest of code won't work\"\n",
      "# min_dist = actual_dists[reject.index(False) - 1]\n",
      "# print(\"At FDR of {0}, we consider homolog-to-homolog diffs significant if they \"\n",
      "#       \"exceed {1:.3f}. There are {2} such sites out of {3} total.\".format(\n",
      "#       fdr, min_dist, sum(reject), len(actual_dists)))"
     ],
     "language": "python",
     "metadata": {},
     "outputs": [],
     "prompt_number": 36
    },
    {
     "cell_type": "markdown",
     "metadata": {},
     "source": [
      "## Examine mutational shifts at different domains and sites\n",
      "\n",
      "Now we will examine the extent of mutational shifts for different regions and sites of HA. \n",
      "\n",
      "First, we will look at how shifted the stalk domain is relative to the head domain.\n",
      "The demarcation between the head and stalk domains is defined by a disulfide bridge formed by two cysteines at sites 52 and 277 (H3 numbering). "
     ]
    },
    {
     "cell_type": "code",
     "collapsed": false,
     "input": [
      "# for i, row in prefsdist.iterrows():\n",
      "#     if int(i) in range(59,279):\n",
      "#         prefsdist.set_value(i, 'domain', 'head')\n",
      "#     else:\n",
      "#         prefsdist.set_value(i, 'domain', 'stalk')\n",
      "\n",
      "# # Now plot the shifts in preferences for the two HA domains\n",
      "# sns.set_style('white')\n",
      "# sns.set_style('ticks')\n",
      "# (fig, ax) = plt.subplots(figsize=(7,5))\n",
      "# sns.boxplot(x='domain', \n",
      "#             y='RMSDcorrected', \n",
      "#             data=prefsdist, \n",
      "#             order = ['head', 'stalk'],\n",
      "#             color='gray')\n",
      "\n",
      "# plt.ylabel('shift in preferences', fontsize=20)\n",
      "# plt.xlabel('HA domain', fontsize=20)\n",
      "# plt.xticks(fontsize=18)\n",
      "# plt.yticks(fontsize=18)\n",
      "\n",
      "# # Calculate significance\n",
      "# p = scipy.stats.mannwhitneyu(\n",
      "#         prefsdist.loc[prefsdist['domain'] == 'head']['RMSDcorrected'], \n",
      "#         prefsdist.loc[prefsdist['domain'] == 'stalk']['RMSDcorrected']\n",
      "#         )[1]\n",
      "# (x1, x2) = (0, 1)\n",
      "# yextend = 1.05\n",
      "# y = prefsdist.RMSDcorrected.max() * yextend\n",
      "# plt.plot([x1, x1, x2, x2], [y, yextend * y, yextend * y, y], c='black', lw=2)\n",
      "# plt.text((x1 + x2) / 2, y * yextend, '$P = {0:.4f}$'.format(p), \n",
      "#          ha='center', va='bottom', size=20)\n",
      "# ax.set_ylim(top=y*(yextend**3))\n",
      "\n",
      "# sns.despine()\n",
      "# plt.tight_layout()\n",
      "# # plt.savefig('{0}/HAdomains_vs_shifts.pdf'.format(prefsdistdir), format='pdf')\n",
      "# plt.show()"
     ],
     "language": "python",
     "metadata": {},
     "outputs": [],
     "prompt_number": 37
    },
    {
     "cell_type": "markdown",
     "metadata": {},
     "source": [
      "As we can see from the plot above, the preferences in the stalk domain tend to be less shifted than in the head domain.\n",
      "This makes sense in light of the fact that the stalk domain is more conserved in sequence across HA subtypes, while the head domain tends to be more variable."
     ]
    },
    {
     "cell_type": "markdown",
     "metadata": {},
     "source": [
      "Next, based on a multiple sequence alignment of all 18 HA subtypes, we found 94 sites to be absolutely conserved across all the subtypes, so we will look at the distribution of distances for these conserved sites."
     ]
    },
    {
     "cell_type": "code",
     "collapsed": false,
     "input": [
      "# abs_conserved_sites = [s.strip() for s in (open(\n",
      "#         './data/abs_conserved_sites.txt', 'r')).readlines()]\n",
      "\n",
      "# for i, row in prefsdist.iterrows():\n",
      "#     if str(i+1) in abs_conserved_sites:\n",
      "#         prefsdist.set_value(i, 'abs_conserved', 'conserved')\n",
      "#     else:\n",
      "#         prefsdist.set_value(i, 'abs_conserved', 'not conserved')\n",
      "\n",
      "# # Now plot the shifts in preferences for the two classes\n",
      "# sns.set_style('white')\n",
      "# sns.set_style('ticks')\n",
      "# (fig, ax) = plt.subplots(figsize=(7,5))\n",
      "# sns.boxplot(x='abs_conserved', \n",
      "#             y='RMSDcorrected', \n",
      "#             data=prefsdist,\n",
      "#             color='gray')\n",
      "\n",
      "# plt.ylabel('shift in preferences', fontsize=20)\n",
      "# plt.xlabel('absolutely conserved?', fontsize=20)\n",
      "# plt.xticks(fontsize=18)\n",
      "# plt.yticks(fontsize=18)\n",
      "\n",
      "# # Calculate significance\n",
      "# p = scipy.stats.mannwhitneyu(\n",
      "#         prefsdist.loc[prefsdist['abs_conserved'] == 'conserved']['RMSDcorrected'], \n",
      "#         prefsdist.loc[prefsdist['abs_conserved'] == 'not conserved']['RMSDcorrected']\n",
      "#         )[1]\n",
      "# (x1, x2) = (0, 1)\n",
      "# yextend = 1.05\n",
      "# y = prefsdist.RMSDcorrected.max() * yextend\n",
      "# plt.plot([x1, x1, x2, x2], [y, yextend * y, yextend * y, y], c='black', lw=2)\n",
      "# plt.text((x1 + x2) / 2, y * yextend, r'$P < 1 \\times 10^{-18}$', \n",
      "#          ha='center', va='bottom', size=20)\n",
      "# ax.set_ylim(top=y*(yextend**3))\n",
      "\n",
      "# sns.despine()\n",
      "# plt.tight_layout()\n",
      "# # plt.savefig('{0}/Conserved_vs_shifts.pdf'.format(prefsdistdir), format='pdf')\n",
      "# plt.show()"
     ],
     "language": "python",
     "metadata": {},
     "outputs": [],
     "prompt_number": 38
    },
    {
     "cell_type": "markdown",
     "metadata": {},
     "source": [
      "These absolutely conserved sites are significantly less shifted than sites that are variable across HA subtypes. Presumably these sites are under consistent functional constraint across all HA's."
     ]
    },
    {
     "cell_type": "markdown",
     "metadata": {},
     "source": [
      "There have also been structurally defined differences in the rotation and upward translation of the globular head relative to the stalk domain for the clade containing H1, H2, H5 and H6 compared to the clade containing H3, H4, and H14. \n",
      "We will now examine shifts at sites that are conserved at different amino-acid identities between these two clades."
     ]
    },
    {
     "cell_type": "code",
     "collapsed": false,
     "input": [
      "# clade_specific_sites = [s.strip() for s in \n",
      "#         open('./data/clade_specific_sites.txt', 'r').readlines()]\n",
      "\n",
      "# for i, row in prefsdist.iterrows():\n",
      "#     if str(i+1) in clade_specific_sites:\n",
      "#         prefsdist.set_value(i, 'clade_specific', 'yes')\n",
      "#     else:\n",
      "#         prefsdist.set_value(i, 'clade_specific', 'no')\n",
      "\n",
      "# # Now plot the shifts in preferences for the two classes\n",
      "# sns.set_style('white')\n",
      "# sns.set_style('ticks')\n",
      "# (fig, ax) = plt.subplots(figsize=(7,5))\n",
      "# sns.boxplot(x='clade_specific', \n",
      "#             y='RMSDcorrected', \n",
      "#             data=prefsdist,\n",
      "#             color='gray')\n",
      "\n",
      "# plt.ylabel('shift in preferences', fontsize=20)\n",
      "# plt.xlabel('clade specific?', fontsize=20)\n",
      "# plt.xticks(fontsize=18)\n",
      "# plt.yticks(fontsize=18)\n",
      "\n",
      "# # Calculate significance\n",
      "# p = scipy.stats.mannwhitneyu(\n",
      "#         prefsdist.loc[prefsdist['clade_specific'] == 'yes']['RMSDcorrected'], \n",
      "#         prefsdist.loc[prefsdist['clade_specific'] == 'no']['RMSDcorrected']\n",
      "#         )[1]\n",
      "# (x1, x2) = (0, 1)\n",
      "# yextend = 1.05\n",
      "# y = prefsdist.RMSDcorrected.max() * yextend\n",
      "# plt.plot([x1, x1, x2, x2], [y, yextend * y, yextend * y, y], c='black', lw=2)\n",
      "# plt.text((x1 + x2) / 2, y * yextend, r'$P < 1 \\times 10^{-12}$', \n",
      "#          ha='center', va='bottom', size=20)\n",
      "# ax.set_ylim(top=y*(yextend**3))\n",
      "\n",
      "# sns.despine()\n",
      "# plt.tight_layout()\n",
      "# # plt.savefig('{0}/clade_specific_shifts.pdf'.format(prefsdistdir), format='pdf')\n",
      "# plt.show()"
     ],
     "language": "python",
     "metadata": {},
     "outputs": [],
     "prompt_number": 39
    },
    {
     "cell_type": "markdown",
     "metadata": {},
     "source": [
      "The clade-specific sites are significantly more shifted than other sites.\n",
      "Some of these shifted sites may be involved in the observed clade-specific differences in structure."
     ]
    },
    {
     "cell_type": "code",
     "collapsed": true,
     "input": [],
     "language": "python",
     "metadata": {},
     "outputs": [],
     "prompt_number": 40
    }
   ],
   "metadata": {}
  }
 ]
}
